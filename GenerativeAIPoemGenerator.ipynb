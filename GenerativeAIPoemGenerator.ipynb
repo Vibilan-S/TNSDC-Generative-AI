{
  "cells": [
    {
      "cell_type": "code",
      "execution_count": null,
      "metadata": {
        "id": "LtRUkrYwfqef"
      },
      "outputs": [],
      "source": [
        "!pip3 uninstall --yes torch torchaudio torchvision torchtext torchdata\n",
        "!pip3 install torch torchaudio torchvision torchtext torchdata\n",
        "!pip install transformers"
      ]
    },
    {
      "cell_type": "code",
      "execution_count": 9,
      "metadata": {
        "colab": {
          "base_uri": "https://localhost:8080/",
          "height": 677
        },
        "id": "o6FISc6giQUj",
        "outputId": "40cc35ef-5676-40ca-cd7f-7bbb67fe6b70"
      },
      "outputs": [
        {
          "data": {
            "text/html": [
              "\n",
              "  <style>\n",
              "    pre {\n",
              "        white-space: pre-wrap;\n",
              "    }\n",
              "  </style>\n",
              "  "
            ],
            "text/plain": [
              "<IPython.core.display.HTML object>"
            ]
          },
          "metadata": {},
          "output_type": "display_data"
        },
        {
          "data": {
            "text/html": [
              "<style>table.dataframe td{white-space: nowrap;}</style>"
            ],
            "text/plain": [
              "<IPython.core.display.HTML object>"
            ]
          },
          "metadata": {},
          "output_type": "display_data"
        },
        {
          "name": "stdout",
          "output_type": "stream",
          "text": [
            "\n",
            " Generative AI : Poem Generator \n",
            "\n",
            "Inputs:\n",
            "Enter starting line:In the still of the night\n",
            "Enter ending line:Underneath the moon's soft light\n",
            "\n",
            "Output:\n",
            "Generated Poem:\n",
            "In the still of the night  Underneath the moon's soft light, the great earth smelt like a fine dust.\n",
            "\n",
            "The moon was a beautiful moon, and the earth was rich in earth, but beneath the soft glow of its light the fine particles of dirt were not so fine. The earth in its surface was soft and flat, like the surface of a hard stone, with no roughness at all. This was the feeling of an earthy earth. As the sun began to rise, this was all the more true, as it had begun to cool in the morning. That was why the day had already begun. It was still early, so there was no need to take a bath, just to stand on the edge of it. But the wind was blowing the dust away, blowing it away like sand on a beach. One day, one of them would come. He would be like dust, dust that came and went like water. And he would not have to run around to collect it all again, because the water would run off his back. So he was an insect, an animal, a bird. If he were the type of man that was so good at picking things up, he might be able to gather them all up and go home. Now, however, his appearance was quite different. Because his eyes had changed, it was as if his body had turned into a giant insect. His body was like that of one that had spent its life in a cave, surrounded by trees and bushes. There was not a single hair on him, only a few insects, all of which were in different states of decay, or had been cut down by some great disaster. Yet he did not seem to be in any hurry to do anything. All he wanted to know was where he belonged. Where is he now? How much longer will it take him to find out? The wind had stopped, though the rain still came in torrents. Not only did the snow fall, raindrops still fell in bursts. Even as the clouds covered the sky, they seemed to pour down, into the city. Then, in an instant, snow started falling. In the distance, people began walking. \"Haaaaaaaaa!\" \"Why are we going to the dead of night to wait for someone to appear?\" \"Is it because he's such a good person? He's so kind, doesn't he?\" Those people were all in their late twenties. They all had the same expressions on their faces. No matter how they looked, their eyes, if they were looking at the direction of that black, dark sky or at a person standing in front of me, then it would seem like they wanted me to die. I have never seen people like them before. However, those people did have a special feeling about them. Those were their memories. Although they did look as though they would die, there were still things they remembered, things that were important to them that they could not forget. For example, before they died, my sister, who was already in her 20s, had told me about her past, about how she had lived with me for four years. She told a story about a strange girl that lived in our family. At that time, she was only 16, while I was about 18. Her name was Cicely. Once, we lived beside a river in my family's home town. We were on our way to another village. When we were approaching the village, I saw an old man. My sister had not seen him in years, yet he had appeared in his village with a woman. Both of us had heard about this woman, Cinly, once. After he returned to his home, when I visited her, her memories appeared, even though she did remember nothing about it then. Cinely was always very kind to me. Whenever I came near her and tried to talk to her she would give me a kind smile. Still, that smile was very dark. What I wanted was to ask her if she remembered me from when she lived near me and how I got back to my own home with her. A few days later, our sister came to visit us. Since she came so soon, many people had gathered, looking for her to tell them about me's death. Some people even approached her with the intention of asking her questions about my death, since she seemed happy when they talked to Cinesly about the past. People from the neighboring village also came up to us, asking us to meet with them later. Our sister was too busy to look after herself, nor could she remember anything about us before we died. Therefore, everyone was curious about what had happened to our little sister. Suddenly, someone came running over. Despite not being able even to see her face, its movements were so smooth that she could be mistaken for a man, although her eyes were red. On her\n"
          ]
        }
      ],
      "source": [
        "import torch\n",
        "from transformers import GPT2LMHeadModel, GPT2Tokenizer\n",
        "\n",
        "# Load pre-trained GPT-2 model and tokenizer\n",
        "model_name = \"gpt2-medium\"\n",
        "tokenizer = GPT2Tokenizer.from_pretrained(model_name)\n",
        "model = GPT2LMHeadModel.from_pretrained(model_name)\n",
        "\n",
        "# Set up device\n",
        "device = torch.device(\"cuda\" if torch.cuda.is_available() else \"cpu\")\n",
        "model.to(device)\n",
        "\n",
        "# Function to generate poem given starting and ending lines\n",
        "def generate_poem(starting_line, ending_line, max_length=1000):\n",
        "    input_text = starting_line + \" <|endoftext|> \" + ending_line\n",
        "    input_ids = tokenizer.encode(input_text, return_tensors=\"pt\").to(device)\n",
        "\n",
        "    # Generate poem using model\n",
        "    output = model.generate(\n",
        "        input_ids,\n",
        "        max_length=max_length,\n",
        "        temperature=0.7,\n",
        "        num_return_sequences=1,\n",
        "        pad_token_id=tokenizer.eos_token_id,\n",
        "        eos_token_id=tokenizer.eos_token_id,\n",
        "        no_repeat_ngram_size=2,\n",
        "        top_k=50,\n",
        "        top_p=0.95,\n",
        "        do_sample=True\n",
        "    )\n",
        "\n",
        "    # Decode generated text\n",
        "    generated_poem = tokenizer.decode(output[0], skip_special_tokens=True)\n",
        "    return generated_poem\n",
        "\n",
        "# Example usage\n",
        "print()\n",
        "print(\" Generative AI : Poem Generator \")\n",
        "print()\n",
        "print(\"Inputs:\")\n",
        "starting_line = input(\"Enter starting line:\")\n",
        "ending_line = input(\"Enter ending line:\")\n",
        "generated_poem = generate_poem(starting_line, ending_line)\n",
        "print()\n",
        "print(\"Output:\")\n",
        "print(\"Generated Poem:\")\n",
        "print(generated_poem)"
      ]
    }
  ],
  "metadata": {
    "colab": {
      "provenance": []
    },
    "kernelspec": {
      "display_name": "Python 3",
      "name": "python3"
    },
    "language_info": {
      "name": "python"
    }
  },
  "nbformat": 4,
  "nbformat_minor": 0
}
